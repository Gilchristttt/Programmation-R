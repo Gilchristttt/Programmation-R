{
 "cells": [
  {
   "cell_type": "code",
   "execution_count": 1,
   "id": "fc155c20-68e1-49cb-8ab4-5271ce769a51",
   "metadata": {},
   "outputs": [
    {
     "name": "stdout",
     "output_type": "stream",
     "text": [
      "search: \u001b[0m\u001b[1mp\u001b[22m\u001b[0m\u001b[1mr\u001b[22m\u001b[0m\u001b[1mi\u001b[22m\u001b[0m\u001b[1mn\u001b[22m\u001b[0m\u001b[1mt\u001b[22m\u001b[0m\u001b[1ml\u001b[22m\u001b[0m\u001b[1mn\u001b[22m \u001b[0m\u001b[1mp\u001b[22m\u001b[0m\u001b[1mr\u001b[22m\u001b[0m\u001b[1mi\u001b[22m\u001b[0m\u001b[1mn\u001b[22m\u001b[0m\u001b[1mt\u001b[22msty\u001b[0m\u001b[1ml\u001b[22med \u001b[0m\u001b[1mp\u001b[22m\u001b[0m\u001b[1mr\u001b[22m\u001b[0m\u001b[1mi\u001b[22m\u001b[0m\u001b[1mn\u001b[22m\u001b[0m\u001b[1mt\u001b[22m s\u001b[0m\u001b[1mp\u001b[22m\u001b[0m\u001b[1mr\u001b[22m\u001b[0m\u001b[1mi\u001b[22m\u001b[0m\u001b[1mn\u001b[22m\u001b[0m\u001b[1mt\u001b[22m is\u001b[0m\u001b[1mp\u001b[22m\u001b[0m\u001b[1mr\u001b[22m\u001b[0m\u001b[1mi\u001b[22m\u001b[0m\u001b[1mn\u001b[22m\u001b[0m\u001b[1mt\u001b[22m\n",
      "\n"
     ]
    },
    {
     "data": {
      "text/latex": [
       "\\begin{verbatim}\n",
       "println([io::IO], xs...)\n",
       "\\end{verbatim}\n",
       "Print (using \\href{@ref}{\\texttt{print}}) \\texttt{xs} to \\texttt{io} followed by a newline. If \\texttt{io} is not supplied, prints to the default output stream \\href{@ref}{\\texttt{stdout}}.\n",
       "\n",
       "See also \\href{@ref}{\\texttt{printstyled}} to add colors etc.\n",
       "\n",
       "\\section{Examples}\n",
       "\\begin{verbatim}\n",
       "julia> println(\"Hello, world\")\n",
       "Hello, world\n",
       "\n",
       "julia> io = IOBuffer();\n",
       "\n",
       "julia> println(io, \"Hello\", ',', \" world.\")\n",
       "\n",
       "julia> String(take!(io))\n",
       "\"Hello, world.\\n\"\n",
       "\\end{verbatim}\n"
      ],
      "text/markdown": [
       "```\n",
       "println([io::IO], xs...)\n",
       "```\n",
       "\n",
       "Print (using [`print`](@ref)) `xs` to `io` followed by a newline. If `io` is not supplied, prints to the default output stream [`stdout`](@ref).\n",
       "\n",
       "See also [`printstyled`](@ref) to add colors etc.\n",
       "\n",
       "# Examples\n",
       "\n",
       "```jldoctest\n",
       "julia> println(\"Hello, world\")\n",
       "Hello, world\n",
       "\n",
       "julia> io = IOBuffer();\n",
       "\n",
       "julia> println(io, \"Hello\", ',', \" world.\")\n",
       "\n",
       "julia> String(take!(io))\n",
       "\"Hello, world.\\n\"\n",
       "```\n"
      ],
      "text/plain": [
       "\u001b[36m  println([io::IO], xs...)\u001b[39m\n",
       "\n",
       "  Print (using \u001b[36mprint\u001b[39m) \u001b[36mxs\u001b[39m to \u001b[36mio\u001b[39m followed by a newline. If \u001b[36mio\u001b[39m is not supplied,\n",
       "  prints to the default output stream \u001b[36mstdout\u001b[39m.\n",
       "\n",
       "  See also \u001b[36mprintstyled\u001b[39m to add colors etc.\n",
       "\n",
       "\u001b[1m  Examples\u001b[22m\n",
       "\u001b[1m  ≡≡≡≡≡≡≡≡\u001b[22m\n",
       "\n",
       "\u001b[36m  julia> println(\"Hello, world\")\u001b[39m\n",
       "\u001b[36m  Hello, world\u001b[39m\n",
       "\u001b[36m  \u001b[39m\n",
       "\u001b[36m  julia> io = IOBuffer();\u001b[39m\n",
       "\u001b[36m  \u001b[39m\n",
       "\u001b[36m  julia> println(io, \"Hello\", ',', \" world.\")\u001b[39m\n",
       "\u001b[36m  \u001b[39m\n",
       "\u001b[36m  julia> String(take!(io))\u001b[39m\n",
       "\u001b[36m  \"Hello, world.\\n\"\u001b[39m"
      ]
     },
     "execution_count": 1,
     "metadata": {},
     "output_type": "execute_result"
    }
   ],
   "source": [
    "?println"
   ]
  },
  {
   "cell_type": "code",
   "execution_count": 5,
   "id": "37feee0b-2c90-4f19-a939-cde0f0ead1ee",
   "metadata": {},
   "outputs": [],
   "source": [
    "io = IOBuffer()\n",
    "println(io, \"Hello\", ',', \" world.\")"
   ]
  },
  {
   "cell_type": "code",
   "execution_count": 9,
   "id": "441ad177-c337-44b2-9aeb-1a820a58a1b6",
   "metadata": {},
   "outputs": [
    {
     "name": "stdout",
     "output_type": "stream",
     "text": [
      "Hello world\n"
     ]
    }
   ],
   "source": [
    "println(\"Hello world\")"
   ]
  }
 ],
 "metadata": {
  "kernelspec": {
   "display_name": "Julia 1.10.5",
   "language": "julia",
   "name": "julia-1.10"
  },
  "language_info": {
   "file_extension": ".jl",
   "mimetype": "application/julia",
   "name": "julia",
   "version": "1.10.5"
  }
 },
 "nbformat": 4,
 "nbformat_minor": 5
}
